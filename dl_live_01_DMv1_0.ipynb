{
  "nbformat": 4,
  "nbformat_minor": 0,
  "metadata": {
    "kernelspec": {
      "display_name": "Python 3",
      "language": "python",
      "name": "python3"
    },
    "language_info": {
      "codemirror_mode": {
        "name": "ipython",
        "version": 3
      },
      "file_extension": ".py",
      "mimetype": "text/x-python",
      "name": "python",
      "nbconvert_exporter": "python",
      "pygments_lexer": "ipython3",
      "version": "3.7.7"
    },
    "pycharm": {
      "stem_cell": {
        "cell_type": "raw",
        "metadata": {
          "collapsed": false
        },
        "source": []
      }
    },
    "toc": {
      "base_numbering": 1,
      "nav_menu": {},
      "number_sections": true,
      "sideBar": true,
      "skip_h1_title": false,
      "title_cell": "Table of Contents",
      "title_sidebar": "Contents",
      "toc_cell": false,
      "toc_position": {},
      "toc_section_display": true,
      "toc_window_display": false
    },
    "varInspector": {
      "cols": {
        "lenName": 16,
        "lenType": 16,
        "lenVar": 40
      },
      "kernels_config": {
        "python": {
          "delete_cmd_postfix": "",
          "delete_cmd_prefix": "del ",
          "library": "var_list.py",
          "varRefreshCmd": "print(var_dic_list())"
        },
        "r": {
          "delete_cmd_postfix": ") ",
          "delete_cmd_prefix": "rm(",
          "library": "var_list.r",
          "varRefreshCmd": "cat(var_dic_list()) "
        }
      },
      "types_to_exclude": [
        "module",
        "function",
        "builtin_function_or_method",
        "instance",
        "_Feature"
      ],
      "window_display": false
    },
    "colab": {
      "name": "dl_live_01_DMv1.0.ipynb",
      "provenance": [],
      "collapsed_sections": [],
      "toc_visible": true,
      "include_colab_link": true
    }
  },
  "cells": [
    {
      "cell_type": "markdown",
      "metadata": {
        "id": "view-in-github",
        "colab_type": "text"
      },
      "source": [
        "<a href=\"https://colab.research.google.com/github/DrDavidL/dhds/blob/main/dl_live_01_DMv1_0.ipynb\" target=\"_parent\"><img src=\"https://colab.research.google.com/assets/colab-badge.svg\" alt=\"Open In Colab\"/></a>"
      ]
    },
    {
      "cell_type": "markdown",
      "metadata": {
        "id": "0cpUyiFUIGUC"
      },
      "source": [
        "# My First Data Science Notebook\n",
        "\n",
        "## *Welcome Feinberg Medical Students!!!*\n",
        "\n",
        "## Purpose\n",
        "\n",
        "This interactive Colab notebook will help you become acquainted with the POWER of data science notebooks to retrieve data files from... *anywhere*, preview file contents (e.g., just the first few rows of large tables of data), manipulate data, create neat visualizations, analyze data, and then apply machine learning to develop models and test them! Cool, huh??? \n",
        "\n",
        "You might wonder which computer is doing this for you? Your own? NO... there is a processor far off in the Internet that, through the benefits of cloud computing, has been allocated to YOU and your work HERE, right now! Your personal computer is merely displaying content that this other processor will manipulate at YOUR direction! **YOU**... are in charge! \n",
        "\n",
        "But wait... you don't know how to program? No worries! This notebook will enable you to see behind the scenes and understand what the programs are doing... while not having to code anything yourself!\n",
        "\n",
        "\n",
        "### Please keep in mind:### \n",
        "\n",
        "*The goal of this exercise is for you to see, at a high level, how a data scientist retrieves a dataset for analysis, performs preliminary analyses and visualizations of a dataset, and then applies a machine learning algorithm to create a predictive model. You are not expected to do this on your own, but should come away with an understanding of the steps involved in this work.* \n",
        "\n",
        "*Lastly, for the few of you who are particularly interested, feel free to \"steal\" any of the code! Of course, you'll have to customize for your projects, but this should give you a little head start!*\n"
      ]
    },
    {
      "cell_type": "markdown",
      "metadata": {
        "id": "vLvju6bIYTbV"
      },
      "source": [
        "![kelly-sikkema-VBPzRgd7gfc-unsplash (2).jpg](data:image/jpeg;base64,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)"
      ]
    },
    {
      "cell_type": "markdown",
      "metadata": {
        "id": "3L4KO5PF34so"
      },
      "source": [
        "## How to use a notebook!\n",
        "\n",
        "\n",
        "Of course, we mean how to use a *data science* notebook. This notebook is called a Colab notebook (very similar to another version, a Jupyter Notebook). Notebooks are assembled from cells and cells contain:\n",
        "\n",
        ">  - text (like this that you're reading now)\n",
        ">  - `code` (commands your cloud computer will execute for you)\n",
        "\n",
        "### Navigation\n",
        "\n",
        "How should we move up and down the page to explore these cells? Click once to select a cell and then:  \n",
        "\n",
        ">  **Use the arrow keys on your keyboard.**\n",
        "\n",
        "Try it out! Go up and down the page and come back here! (If you get stuck, or can't exit programming code, click the escape (esc) key on your keyboard.) Use arrows to navigate since then you always know which cell is active - the one you highlighted and selected through the arrow keys! Once you're finished with a cell, and this one ends here, click the down arrow to move to the next cell.\n"
      ]
    },
    {
      "cell_type": "markdown",
      "metadata": {
        "id": "LBxOwpwGOI-R"
      },
      "source": [
        "### Editing\n",
        "\n",
        "This cell (the one you're reading now) is authored with  simple formatting called *markdown*. If you double click inside this cell or hit *enter* (the return key) the screen will split and you'll see the *raw* text nearby with the code revealed next to the polished text.\n",
        "\n",
        "Try it - hit enter! Ok... now you can edit or delete any text! Don't delete everything... but also don't worry; this is your own view on your cloud computer. You're not changing anything for anyone else. Ummm... how do I go back and forth from editing to viewing? \n",
        "\n",
        "> **Use esc:** To return to the viewing mode.   \n",
        "> **Use enter:** For edit mode again.  \n",
        "\n"
      ]
    },
    {
      "cell_type": "markdown",
      "metadata": {
        "id": "NsNgEbJbH_1C"
      },
      "source": [
        "### How do I use the interactive stuff???\n",
        "\n",
        "Some cells are coding cells. You'll recognize them since they have confusing symbols in them (like `#` or words like matplotlib). To run the code in those cells there are two methods: \n",
        "\n",
        "> 1. **Click the play symbol** that appears next to that cell; or       \n",
        "> 2. **Hold the control key and then click the enter key**. (Control-enter)\n",
        "> 3. **Run code sequentially on the page.** Some of the code requires output from coding cells higher up on the page, so read and run the code cells sequentially down the page to avoid errors.\n",
        "\n",
        "*(If you're not already logged into Google at the top right of the screen, you'll be prompted to do so before the cells will run.)*\n"
      ]
    },
    {
      "cell_type": "markdown",
      "metadata": {
        "id": "lJQbtd7UJF0w"
      },
      "source": [
        "## Our Agenda\n",
        "\n",
        "Now that you understand why we are here and how to navigate a data science notebook, we can get down to business. We will:  \n",
        "\n",
        "1. Setup your cloud computer with the right programs so it can perform your analysis. You don't need to understand this other than we will help you tell your computer what programs it needs to manipulate and visualize data! (This is the Library Import section.)\n",
        "2. Retrieve the data set you are going to explore! \n",
        "3. View some of the data so you know what you're working with!\n",
        "4. Visualize different aspects of your data set.\n",
        "5. Select a variable to predict. \n",
        "6. Choose a portion of your dataset to generate your predictive model. \n",
        "7. Validate your model against the fresh component of your dataset to see how well your model works!"
      ]
    },
    {
      "cell_type": "markdown",
      "metadata": {
        "id": "h8qLordS34su"
      },
      "source": [
        "# Prepare our cloud computer!\n",
        "\n",
        "## Library import\n",
        "\n",
        "This is where we tell our cloud computer which programs it needs. Just 2 things to know here:\n",
        "\n",
        "> 1. **The # symbol**: Please read all text following the **#** symbol in code cells like the one below. The text following the #'s are *`comments`* that explain the code so you can understand what's going on! \n",
        "> 2. Use **Control-enter** or click the play ![playsymbol.jpg](data:image/jpeg;base64,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) symbol to run the code! You'll see when the code from the cell is finished running when the **[  ]** before the cell will briefly change to include a \"stop play\" symbol and then switch to a number after you leave the cell and processing is complete. A green checkmark will also appear to the left. (Sometimes it's so fast, you can't see it; other times it may take a minute to process.) The number under the checkmark shows how long it took to process. After you leave the cell, the number appearing indicates the order in which the cell executed on the page. "
      ]
    },
    {
      "cell_type": "code",
      "metadata": {
        "ExecuteTime": {
          "end_time": "2019-06-16T14:44:50.874881Z",
          "start_time": "2019-06-16T14:44:38.616867Z"
        },
        "id": "CbVE99Ix34sv"
      },
      "source": [
        "# Be sure to run this critical first cell to import \"libaries\" and prepare our cloud computer! \n",
        "# Remember, click the \"play\" button to the left or control-enter.\n",
        "# If you haven't logged into Google, you'll be prompted. Also... (and I say this with care...) \n",
        "# Ignore the warning prompt if you see one and proceed.\n",
        "# This will then load the right programs so we can analyze our data!\n",
        "\n",
        "import math\n",
        "import pandas as pd\n",
        "import copy\n",
        "import numpy as np\n",
        "import seaborn as sns\n",
        "import matplotlib.pyplot as plt\n",
        "import sklearn\n",
        "from sklearn import metrics\n",
        "from sklearn.model_selection import train_test_split\n",
        "from sklearn.linear_model import LogisticRegression\n",
        "from sklearn.metrics import roc_curve\n",
        "from sklearn.metrics import roc_auc_score\n",
        "from sklearn.metrics import precision_recall_curve\n",
        "from sklearn.metrics import f1_score\n",
        "from sklearn.metrics import auc\n",
        "from google.colab import data_table\n",
        "data_table.enable_dataframe_formatter()\n",
        "\n",
        "\n",
        "# Options set here for setting views at a reasonable size\n",
        "\n",
        "pd.options.display.max_columns = 50\n",
        "pd.options.display.max_rows = 30\n",
        "\n",
        "# Some of the visualizing too\n",
        "\n",
        "import plotly\n",
        "import plotly.graph_objs as go\n",
        "import plotly.offline as ply\n",
        "plotly.offline.init_notebook_mode(connected=True)\n",
        "\n"
      ],
      "execution_count": null,
      "outputs": []
    },
    {
      "cell_type": "markdown",
      "metadata": {
        "tags": [],
        "id": "vhP7XthF34sx"
      },
      "source": [
        "\n",
        "# Data import\n",
        "\n",
        "This notebook utilizes a dataset sourced from University of Virginia studies by Dr. Robert Schorling of several hundred rural African American patients. Additional information on this data set is available here:   \n",
        "> https://hbiostat.org/data/repo/diabetes.html   \n",
        "> http://staff.pubhealth.ku.dk/~tag/Teaching/share/data/Diabetes.html\n",
        "\n",
        "Using this data source, Dr. Robert Hoyt (https://data.world/rhoyt) assigned patients to a diabetes category if their hemoglobin A1c values were 6.5 or greater (https://data.world/informatics-edu/diabetes-prediction). The dataset  explored here is the modified version from Dr. Hoyt, almost ready to go for our explorations. \n",
        "\n",
        "Our next step: Let's retrieve the data to use in our Notebook!\n",
        "\n"
      ]
    },
    {
      "cell_type": "code",
      "metadata": {
        "id": "fmJEfaem34sx"
      },
      "source": [
        "# Run this cell to reference the website that is holding the diabetes data in a CSV (comma separated values) file! \n",
        "\n",
        "website = \"https://drive.google.com/uc?export=download&id=1PQM8eQnQpaJwe9mAVb_XBpZoWoA5nTlM\"\n",
        "\n",
        "# Now, let's save the CSV file at that website in a format for exploration. This is called a Pandas dataframe. \n",
        "# Pandas is the program (e.g., like Excel). Think of a dataframe as a powerful table, like an Excel spreadsheet. \n",
        "# We will call the fresh file with the data \"dm_raw\". (Note in coding, punctuation is outside quotes.) \n",
        "# The command below assigns the name dm_raw to the CSV file retrieved from the website! \n",
        "\n",
        "dm_raw = pd.read_csv(website)"
      ],
      "execution_count": null,
      "outputs": []
    },
    {
      "cell_type": "markdown",
      "metadata": {
        "id": "8c9xYUPF34sy"
      },
      "source": [
        "# Data processing\n",
        " \n",
        "First, let's check out the first few rows of the table to see what we're dealing with and make sure it imported cleanly."
      ]
    },
    {
      "cell_type": "code",
      "metadata": {
        "id": "RZQYvpI334sy"
      },
      "source": [
        "# Let's look at just the first few rows of data in our file. We can do this with the \".head\" command added to our file name. \n",
        "# And... No worries here! You don't need to memorize these commands. These explanations are simply so you can follow along!\n",
        "\n",
        "dm_raw.head()"
      ],
      "execution_count": null,
      "outputs": []
    },
    {
      "cell_type": "markdown",
      "metadata": {
        "id": "U0rRl8lM34sz"
      },
      "source": [
        "If we look ahead for what we're planning to do, it's important to know that numbers pulled in from our CSV file are interpreted by our cloud computer as numbers and not as text symbols. Pandas usually does a good job of this, but let's check and see!"
      ]
    },
    {
      "cell_type": "code",
      "metadata": {
        "id": "BH5cTOoR34sz"
      },
      "source": [
        "# The \".dtypes\" command will show us the data types for each column in our dataframe. (Remember a dataframe is like an Excel spreadsheet.) \n",
        "\n",
        "dm_raw.dtypes"
      ],
      "execution_count": null,
      "outputs": []
    },
    {
      "cell_type": "markdown",
      "metadata": {
        "id": "o_nMpU91zfb1"
      },
      "source": [
        "Looking at the output above, our cloud computer with Pandas accurately recognized numbers (integers: int64 and decimals: float64) versus words (Gender and Diabetes: objects) in our dataset! \n",
        "\n",
        "OK... Now, is there a quick way to summarize all the content in our dataframe? Sure enough, there is! The command is called \"describe\"."
      ]
    },
    {
      "cell_type": "code",
      "metadata": {
        "id": "g5WuFjv7lvvu"
      },
      "source": [
        "# Let's first \"describe\" just the numbers. This command will show us facts about the numerical values in our dataframe.\n",
        "\n",
        "dm_raw.describe(include='number')"
      ],
      "execution_count": null,
      "outputs": []
    },
    {
      "cell_type": "markdown",
      "metadata": {
        "id": "3czL5ep5nQ1e"
      },
      "source": [
        "With this simple `describe` function we see each of the nmerical columns above with statistics beneath then. First, the `count` is the number of rows in our data set. For use, this represents patients. The `mean` is the mean average, `std` is the standard deviation, `min` is the lowest value, `max` is the highest value, and the `25/50/75` refer to the quartile break points. (Impressive work! With just one click of a mouse!) \n",
        "\n",
        "Several interesting observations are now possible!   \n",
        "\n",
        "> - There are 390 rows (unique patients) and no data is missing. (390 across the board.)    \n",
        "> - The mean fasting glucose doesn't look that high (107), although the max is 385.\n",
        "> - The mean age is 46.8 and the oldest person is 92.\n",
        "> - The mean BMI is 28.8, max is 55.8 and min is 15.2."
      ]
    },
    {
      "cell_type": "markdown",
      "metadata": {
        "id": "WcIC8jtEn-gu"
      },
      "source": [
        "But wait - aren't we interested in diabetes? How many patients with diabetes are there in our dataset? Let's analyze the columns with `objects` (gender and diabetes)."
      ]
    },
    {
      "cell_type": "code",
      "metadata": {
        "id": "ecb7oBuDoI5a"
      },
      "source": [
        "dm_raw.describe(include='object')"
      ],
      "execution_count": null,
      "outputs": []
    },
    {
      "cell_type": "markdown",
      "metadata": {
        "id": "p1YxybeKoPCF"
      },
      "source": [
        "For `object` descriptions, `top` means the most frequent category seen and `freq` indicates how many times the `top` category was seen. Given this we observe: \n",
        "> - There is no missing data here. (The count is again 390 for gender and diabetes.)\n",
        "> - There is a majority of female patients. (228/390)   \n",
        "> - Most patients do not have diabetes. (330/390)   "
      ]
    },
    {
      "cell_type": "markdown",
      "metadata": {
        "id": "4tS98h2OUa0b"
      },
      "source": [
        "Before we start analyzing our data further, looking back at the first 5 rows of our dataframe, we see that some column names have spaces or slashes. This will be a problem later when we try to call out some columns. Let's leave our \"raw\" dataframe intact, in case we have to go back to it. And then, let's copy it to a new dataframe (dm_clean [link text](https://)) with improved column headers. \n",
        "\n",
        "We'll make a new dataframe `dm_clean` with the commands below that has better column headings. \n"
      ]
    },
    {
      "cell_type": "code",
      "metadata": {
        "id": "XkiOGcaKHA26"
      },
      "source": [
        "# The two commands below first copy the dataframe and then re-interpret the types of data. Then we are ready to adjust the column names.\n",
        "\n",
        "dm_clean = pd.DataFrame(columns = dm_raw.columns, data = copy.deepcopy(dm_raw.values))\n",
        "dm_clean = dm_clean.infer_objects()\n",
        "\n",
        "# OK - our original data is safe. Now, let's modify our copied dataframe. \n",
        "# First, let's remove all the spaces from any column names and replace with an underscore for easier manipulation.\n",
        "\n",
        "dm_clean.columns = [c.replace(' ', '_') for c in dm_clean.columns]\n",
        "\n",
        "# Now let's do the same thing for the /'s.)\n",
        "\n",
        "dm_clean.columns = [c.replace('/', '_') for c in dm_clean.columns]\n",
        "\n",
        "# Now let's look at the top 5 rows of our dataset with the updated column names.\n",
        "\n",
        "dm_clean.head()\n"
      ],
      "execution_count": null,
      "outputs": []
    },
    {
      "cell_type": "markdown",
      "metadata": {
        "id": "RHFoECKGV0XZ"
      },
      "source": [
        "Great! all the spaces in column names and slashes were replaced by `_`. Let's doublecheck that the columns are recognized correctly as numbers or objects in our copied version."
      ]
    },
    {
      "cell_type": "code",
      "metadata": {
        "id": "yjN9UKumvlNy"
      },
      "source": [
        "\n",
        "# The data types (dtypes) command will reassure us that our \"clean\" copy is recognized accurately by Pandas.\n",
        "\n",
        "dm_clean.dtypes"
      ],
      "execution_count": null,
      "outputs": []
    },
    {
      "cell_type": "markdown",
      "metadata": {
        "id": "_MHVESYo34s0"
      },
      "source": [
        "Great; it worked. We see again that there are 15 columns. To start diving in with our analysis, let's begin with a smaller set of 4 columns and see how a few of the variables relate to each other. Your cloud computer can analyze all of these at once, but it's easier to understand if we start with a smaller set. Let's pick `Age, Systolic_BP, waist and Glucose`, although, we could have selected other values here. "
      ]
    },
    {
      "cell_type": "code",
      "metadata": {
        "id": "Pxy4GDEE34s0"
      },
      "source": [
        "# The command below will assign dm2 to refer only to our 4 columns. \n",
        "\n",
        "dm2 = dm_clean[['Age','Systolic_BP','waist','Glucose']]\n",
        "\n",
        "# Let's see the top rows of our small set of interest.\n",
        "\n",
        "dm2.head()\n",
        "\n"
      ],
      "execution_count": null,
      "outputs": []
    },
    {
      "cell_type": "markdown",
      "metadata": {
        "id": "KtOLTpL534s0"
      },
      "source": [
        "Now, let's visualize how these variables relate to each other."
      ]
    },
    {
      "cell_type": "code",
      "metadata": {
        "id": "H9ZnCDcX34s1"
      },
      "source": [
        "# This command will generate 2x2 graphs for each of the 4 variable combinations\n",
        "# AND  perform a linear regression to reveal potential relationships among the variables.\n",
        "\n",
        "g2 = sns.pairplot(dm2, kind = 'reg')\n"
      ],
      "execution_count": null,
      "outputs": []
    },
    {
      "cell_type": "markdown",
      "metadata": {
        "id": "WFEZisnKX56T"
      },
      "source": [
        "### Exploration of 4 variables\n",
        "\n",
        "The view above now hints at the power of the cloud computer under your command. Here are a few observations:  \n",
        "\n",
        "1. The **histograms** along the diagonal plot values against frequency. So, for age, systolic BP, and waist circumference we see most values in the middle ranges. For the fasting glucose values, there are some extreme high outliers. \n",
        "2. Then, the linear regression lines in the bivariate (2 variable) graphs have some interesting findings. But before we analyze this, it's important to consider what we mean when we perform a *linear regression*. This approach explores the possibility that the relationship between the two variables  in each graph above is linear, i.e., a straight line! This may not be the case at all, but is often useful as a quick assessment. Remember that the equation for a line is:  \n",
        "> y = mx + b\n",
        "\n",
        "So, the linear regression determines the best values for m (slope) and b (error or displacement) that leads to the smallest error. Enough statistics, but just one more point: The independent variable should be on the x axis and the dependent variable on the y axis for linear regression to make sense. Let's choose `Age` to examine more closely its effect on the other values. To do this then, let's look at just those graphs where age is on the x-axis.  "
      ]
    },
    {
      "cell_type": "code",
      "metadata": {
        "id": "Vo9YovNMeWm4"
      },
      "source": [
        "# First let's assign the dependent variables for analysis to be the three columns we wish to analyze against age.\n",
        "\n",
        "dm3 = dm_clean[['Systolic_BP','Glucose', 'waist']]\n",
        "\n",
        "# Let's generate 3 separate graphs looking at linear regression (sns.regplot) for age versus each of the three columns.\n",
        "# These are going to be expanded views of the \"all at once\" 2x2 view above so we can take a closer look at the graphs\n",
        "# where age was on the x-axis.\n",
        "\n",
        "for i, col in enumerate(dm3.columns):\n",
        "  plt.figure(i)\n",
        "  sns.regplot(x=dm2.Age, y=col, data=dm2)"
      ],
      "execution_count": null,
      "outputs": []
    },
    {
      "cell_type": "markdown",
      "metadata": {
        "id": "qZ39BKY7cPb1"
      },
      "source": [
        "Examining the linear regression graphs above, weight, fasting glucose, and systolic blood pressure tend to rise with age in our dataset. This is in keeping with what we often see in practice. There seem to be fewer dots on the far right side, though. Let's look more closely at the overall age distribution.\n"
      ]
    },
    {
      "cell_type": "code",
      "metadata": {
        "id": "BL5AO0BPkbKs"
      },
      "source": [
        "# These commands will create a single histogram for the variable, Age. \n",
        "\n",
        "\n",
        "dm_clean.Age.hist()\n",
        "plt.title('Histogram of Age')\n",
        "plt.xlabel('Age')\n",
        "plt.ylabel('Count')\n",
        "\n",
        "\n",
        "\n"
      ],
      "execution_count": null,
      "outputs": []
    },
    {
      "cell_type": "markdown",
      "metadata": {
        "id": "cHapPU0ocJ9e"
      },
      "source": [
        "We can see a bit more clearly how the number of older patients tapers off at high ages."
      ]
    },
    {
      "cell_type": "code",
      "metadata": {
        "id": "6TxRQVXihOkL"
      },
      "source": [
        "# Let's see how patients with and without diabetes compare for the numerical features in the dataset. \n",
        "# That is, let's see if patients with diabetes have higher cholesterol values, are older, weigh more, etc.\n",
        "# We'll use the convenient \"groupby\" command below to show mean values for patients with and without diabetes in our dataset. \n",
        "\n",
        "dm_group_dm = dm_clean.groupby('Diabetes').mean()\n",
        "\n",
        "dm_group_dm.round(1)"
      ],
      "execution_count": null,
      "outputs": []
    },
    {
      "cell_type": "markdown",
      "metadata": {
        "id": "A2W0I0q_svlj"
      },
      "source": [
        "So, there are a few new observations about our dataset:   \n",
        "> - Diabetes patients have much higher mean fasting glucose values. (Not exactly a surprise...)   \n",
        "> - HDL is lower for patients with diabetes. We expected that!\n",
        "> - Patients with diabetes in our set are older.\n",
        "> - Patients with diabetes appear to weigh more and have higher BMI and SBP, too!   \n"
      ]
    },
    {
      "cell_type": "code",
      "metadata": {
        "id": "w7K6i4jShtnS"
      },
      "source": [
        "#Now, let's \"groupby\" gender as reported in the dataset to see how these groups may differ.\n",
        "\n",
        "dm_group_gender = dm_clean.groupby('Gender').mean()\n",
        "\n",
        "dm_group_gender.round(1)"
      ],
      "execution_count": null,
      "outputs": []
    },
    {
      "cell_type": "markdown",
      "metadata": {
        "id": "RYdHuPvFthjJ"
      },
      "source": [
        "Among other findings, women in our dataset have higher mean cholesterol, lower mean glucose, higher HDL, lower height, and higher BMI.  "
      ]
    },
    {
      "cell_type": "code",
      "metadata": {
        "id": "RuMtty78iiRJ"
      },
      "source": [
        "# Now Let's visualize the women and the men with respect to presence or absence of diabetes.\n",
        "\n",
        "pd.crosstab(dm_raw.Gender,dm_raw.Diabetes).plot(kind='bar')\n",
        "plt.title('Presence of Diabetes')\n",
        "plt.xlabel('Gender')\n",
        "plt.ylabel('Count')"
      ],
      "execution_count": null,
      "outputs": []
    },
    {
      "cell_type": "markdown",
      "metadata": {
        "id": "hJODw6UG1oqa"
      },
      "source": [
        "This visualization is a more memorable view than just looking at the numbers. We have many more patients in our dataset without diabetes than with diabetes. And we have fewer males."
      ]
    },
    {
      "cell_type": "code",
      "metadata": {
        "id": "snvuHpUANgRy"
      },
      "source": [
        "# This segment of code below is used to switch our two object columns over to integer columns. \n",
        "# This will be helpful when we calculate correlations for the presence of diabetes and create a predictive model. \n",
        "# Now, \"no diabetes\" will become \"0\" and \"diabetes\" will become \"1\" where they appear in the Diabetes column of our dataframe.\n",
        " \n",
        "\n",
        "if dm_clean.Diabetes.dtype == object:\n",
        "  dm_clean.Diabetes = dm_clean.Diabetes.replace(['No diabetes','Diabetes'],['0','1'])\n",
        "\n",
        "if dm_clean.Gender.dtype == object:\n",
        "  dm_clean.Gender = dm_clean.Gender.replace(['male','female'],['1','0'])\n",
        "\n",
        "dm_clean.Diabetes = dm_clean.Diabetes.astype(str).astype(int)\n",
        "dm_clean.Gender = dm_clean.Gender.astype(str).astype(int)\n",
        "dm_clean.dtypes"
      ],
      "execution_count": null,
      "outputs": []
    },
    {
      "cell_type": "code",
      "metadata": {
        "id": "hH6MHebyMSEV"
      },
      "source": [
        "# Prior to running a model, let's assess for correlations among each pair of values, now that they are all numerical. \n",
        "# For our purposes, we are especially interested in correlations with diabetes; although, this simple \n",
        "# command (corr) will nicely generate correlations among all the features of a our dataset with just a simple command.\n",
        "# We first make a dataframe that contains the correlations and then round to 3 decimal placess. \n",
        "\n",
        "corr_df = dm_clean.corr()\n",
        "\n",
        "corr_df.round(3)\n"
      ],
      "execution_count": null,
      "outputs": []
    },
    {
      "cell_type": "markdown",
      "metadata": {
        "id": "KE97Ncelgj6c"
      },
      "source": [
        "Since our focus is identifying how these factors may impact a diagnosis of diabetes, look at the **bottom** row above. The numbers to the right of diabetes indicate correlations with the presence of diabetes. Note fasting glucose, has the highest positive correlation, (0.689). And, HDL, a negative correlation (-0.123). This negative correlation indicates that a lower HDL value is correlated with the presence of diabetes in our dataset). "
      ]
    },
    {
      "cell_type": "code",
      "metadata": {
        "id": "tjndnwYYgBTe"
      },
      "source": [
        "# Another approach using colors instead of numbers is shown below with a heatmap.\n",
        "\n",
        "fig, ax = plt.subplots(figsize=(8,8))  \n",
        "corr = dm_clean.corr()\n",
        "sns.heatmap(corr, \n",
        "         xticklabels=corr.columns, \n",
        "         yticklabels=corr.columns)"
      ],
      "execution_count": null,
      "outputs": []
    },
    {
      "cell_type": "markdown",
      "metadata": {
        "id": "bvyxVWAWWytz"
      },
      "source": [
        "The heatmap is color coded. The scale on the right side indicates that the lightest colors indicate more positive correlations. Looking across the diabetes row at the bottom, you can see the light color for the glucose column and a much darker color for the HDL cholesterol. "
      ]
    },
    {
      "cell_type": "markdown",
      "metadata": {
        "id": "u7Rw9TCoibim"
      },
      "source": [
        "# We are ready to create a predictive model!\n",
        "\n",
        "Remember, out dataset reveals data about each patient and whether or not each patient has diabetes. Perhaps the variables we have about our patients can be used to predict whether or not patients have diabetes. Let's try this! There are a few steps we need to follow to generate a predictive model from a dataset:   \n",
        "\n",
        "1. Let's divide our dataset into a `training set` and a `test set`. Data elements in the training set are used to create a model that best predicts the presence of diabetes. Then, the test data is used to see how well our model performs at predicting diabetes using data that wasn't included in process of deriving the model. \n",
        "2. Let's assign names to the set data elements we'll use and to the set of outcomes we want to predict for both our training and test data sets.\n",
        "3. Let's *normalize* the data elements. What this means is to apply a consistent scale for the numerical values in different columns. This preserves the information in the columns while preventing one column from having an exaggerated effect simply because the numbers are larger. We will set the mean value at 0 and the standard deviation at 1. This normalization of data elements will then help us better understand the relative importance of each feature in the model.\n"
      ]
    },
    {
      "cell_type": "code",
      "metadata": {
        "id": "dqHNjHVLmBw5"
      },
      "source": [
        "# This is step 1: Randomly dividing our dataset into a training set (80% of rows) and a test set (20% of rows).\n",
        "\n",
        "dmTrain = dm_clean.sample(frac=0.8, random_state=25)\n",
        "dmTest = dm_clean.drop(dmTrain.index)\n",
        "\n",
        "\n",
        "# This is step 2: Assigning the right labels to indicate what value we'd like to predict. \n",
        "# The trainLabel reveals whether or not the patient has diabetes and is used in generating an algorithm.\n",
        "# The trainData includes all the features used to generate the algorithm.\n",
        "# The testLabel reveals the presence or absence of diabetes for the test set to check and see how well our predictions hold up to reality.\n",
        "# The testData is used to make the predictions for our test set of patient.\n",
        "\n",
        "trainLabel = np.asarray(dmTrain['Diabetes'])\n",
        "trainData = np.asarray(dmTrain.drop(labels = 'Diabetes',axis = 1))\n",
        "testLabel = np.asarray(dmTest['Diabetes'])\n",
        "testData = np.asarray(dmTest.drop(labels = 'Diabetes',axis = 1))\n",
        "\n",
        "# Now, let's normalize our numerical features so we can understand our model more easily later.\n",
        "# This takes all the numerical values for each of our columns and converts them to a uniform scale for analysis.\n",
        "\n",
        "means = np.mean(trainData, axis=0)\n",
        "stds = np.std(trainData, axis =0)\n",
        "\n",
        "trainData = (trainData - means)/stds\n",
        "testData = (testData - means)/stds\n",
        "\n",
        "# Below you can see what the normalized values now look like that will be used in the predictive algorithm.\n",
        "\n",
        "testData"
      ],
      "execution_count": null,
      "outputs": []
    },
    {
      "cell_type": "code",
      "metadata": {
        "id": "dk7oA30UoUlm"
      },
      "source": [
        "# The simple command below will create a (not simple) logistic regression model to predict the presence of diabetes. \n",
        "\n",
        "haveDiabetes = LogisticRegression()\n",
        "haveDiabetes.fit(trainData, trainLabel)"
      ],
      "execution_count": null,
      "outputs": []
    },
    {
      "cell_type": "markdown",
      "metadata": {
        "id": "0NdfjSbeJayD"
      },
      "source": [
        "Great! We have our model, its name is `haveDiabetes` and it was created by performing logistic regression across our database variables and optimizing parameters for the best prediction. \n",
        "\n",
        "And... what did we find? How good is our model? That is, how accurately does it predict diabetes and how can we measure this?   \n",
        "\n",
        "Accuracy can be defined as the percentage of correctly classified instances (TP + TN)/(TP + TN + FP + FN). where TP, FN, FP and TN represent the number of true positives, false negatives, false positives and true negatives, respectively. \n",
        "\n",
        "Running the code below will apply the model to our test data so we can calculate its accuracy. We'll also generate a confusion matrix (2x2 diagram)."
      ]
    },
    {
      "cell_type": "code",
      "metadata": {
        "id": "z-RELxsV_43F"
      },
      "source": [
        "predictions = haveDiabetes.predict(testData)\n",
        "metrics.confusion_matrix(testLabel, predictions)\n",
        "accuracy = haveDiabetes.score(testData, testLabel)\n",
        "cm = metrics.confusion_matrix(testLabel, predictions)\n",
        "print(cm)\n",
        "\n",
        "plt.figure(figsize=(9,9))\n",
        "sns.heatmap(cm, annot=True, fmt=\".3f\", linewidths=.5, square = True, cmap = 'Blues_r');\n",
        "plt.ylabel('Actual Diabetes');\n",
        "plt.xlabel('Predicted Diabetes');\n",
        "all_sample_title = 'Accuracy Score: {0}'.format(accuracy)\n",
        "plt.title(all_sample_title, size = 15);"
      ],
      "execution_count": null,
      "outputs": []
    },
    {
      "cell_type": "markdown",
      "metadata": {
        "id": "ZJ8nPwBBLiKo"
      },
      "source": [
        "92.3% looks pretty good! Let's analyze our model to see how it weighted different factors to optimize the prediction."
      ]
    },
    {
      "cell_type": "code",
      "metadata": {
        "id": "45E-SjazsbGw"
      },
      "source": [
        "coeff = list(haveDiabetes.coef_[0])\n",
        "labels = list(dmTrain.drop(labels = 'Diabetes',axis = 1))\n",
        "features = pd.DataFrame()\n",
        "features['Features'] = labels\n",
        "features['importance'] = coeff\n",
        "features.sort_values(by=['importance'], ascending=True, inplace=True)\n",
        "features['positive'] = features['importance'] > 0\n",
        "features.set_index('Features', inplace=True)\n",
        "features.importance.plot(kind='barh', figsize=(11, 6),color = features.positive.map({True: 'blue', False: 'red'}))\n",
        "plt.xlabel('Importance')"
      ],
      "execution_count": null,
      "outputs": []
    },
    {
      "cell_type": "markdown",
      "metadata": {
        "id": "HgjNuA2pLsxq"
      },
      "source": [
        "Here, as earlier, you can see that fasting glucose was weighted the highest in a positive direction for predicting diabetes and HDL cholesterol had the greatest negative weighting in this model.  \n",
        "\n",
        "And... how about that \"area under the receiver operating characteristic curve?\" Shouldn't we measure that statistic, too? "
      ]
    },
    {
      "cell_type": "code",
      "metadata": {
        "id": "NEESfnxx8mki"
      },
      "source": [
        "lr_probs = haveDiabetes.predict_proba(testData)\n",
        "\n",
        "lr_probs = lr_probs[:,1]\n",
        "\n",
        "ns_probs = [0 for _ in range(len(testLabel))]\n",
        "\n",
        "\n",
        "ns_auc = roc_auc_score(testLabel, ns_probs)\n",
        "lr_auc = roc_auc_score(testLabel, lr_probs)\n",
        "\n",
        "\n",
        "print('\"No skill\" model: ROC AUC=%.3f' % (ns_auc))\n",
        "print('Our Diabetes Model: ROC AUC=%.3f' % (lr_auc))\n"
      ],
      "execution_count": null,
      "outputs": []
    },
    {
      "cell_type": "markdown",
      "metadata": {
        "id": "4m7v5TysMH00"
      },
      "source": [
        "Our diabetes model, above, performs much better than the \"no skill\" model that assumes everyone has the most common finding (no diabetes). That's good... Can we see the ROC curve? Yes!! The code below will generate the ROC curve for our model. "
      ]
    },
    {
      "cell_type": "code",
      "metadata": {
        "id": "7iPqIuJcLZTh"
      },
      "source": [
        "ns_fpr, ns_tpr, _ =roc_curve(testLabel, ns_probs)\n",
        "lr_fpr, lr_tpr, _ =roc_curve(testLabel, lr_probs)\n",
        "\n",
        "\n",
        "plt.plot(ns_fpr, ns_tpr, linestyle='--', label='No Skill')\n",
        "plt.plot(lr_fpr, lr_tpr, linestyle='--', label='Logistic')\n",
        "\n",
        "plt.xlabel('False Positive Rate')\n",
        "plt.ylabel('True Positive Rate')\n",
        "\n",
        "\n",
        "plt.legend()\n",
        "\n",
        "\n",
        "plt.show()\n"
      ],
      "execution_count": null,
      "outputs": []
    },
    {
      "cell_type": "markdown",
      "metadata": {
        "id": "Yc5Fj1YZM3yr"
      },
      "source": [
        "Remember, for an ROC curve, we want to get as high a True Positive Rate as possible with as as low a False Positive Rate as possible (upper left corner). So, we are able to reach about a 90% TPR with about a 10% FPR.\n",
        "\n",
        "Sometimes, this may be misleading with relatively small datasets like ours, though, and another curve, the Precision Recall curve better highlights limitations:"
      ]
    },
    {
      "cell_type": "code",
      "metadata": {
        "id": "H_wzjagrVw1t"
      },
      "source": [
        "yhat = haveDiabetes.predict(testData)\n",
        "lr_precision, lr_recall, _ = precision_recall_curve(testLabel, lr_probs)\n",
        "lr_f1, lr_auc = f1_score(testLabel, yhat), auc(lr_recall, lr_precision)\n",
        "# summarize scores\n",
        "print('Logistic: f1=%.3f precision/recall auc=%.3f' % (lr_f1, lr_auc))\n",
        "# plot the precision-recall curves\n",
        "no_skill = len(testLabel[testLabel==1]) / len(testLabel)\n",
        "plt.plot([0, 1], [no_skill, no_skill], linestyle='--', label='No Skill')\n",
        "plt.plot(lr_recall, lr_precision, marker='.', label='Logistic')\n",
        "# axis labels\n",
        "plt.xlabel('Recall')\n",
        "plt.ylabel('Precision')\n",
        "# show the legend\n",
        "plt.legend()\n",
        "# show the plot\n",
        "plt.show()"
      ],
      "execution_count": null,
      "outputs": []
    },
    {
      "cell_type": "markdown",
      "metadata": {
        "id": "x5fFVpV-NpNZ"
      },
      "source": [
        "Here, this curve shows that precision (positive predictive value) stays high until the recall (sensitivity) reaches about 0.5. What that means is that if our goal is to set a threshold for our model to detect half the patients with diabetes, our positive predictive value with our model can stay very high. We can do this with very few false positives!  \n",
        "\n",
        "But, if we want to set a threshold for our model to find more than half of the patients with diabetes, our positive predictive value drops off pretty fast. This means we start accumulating more false positives for each true positive we find. "
      ]
    },
    {
      "cell_type": "markdown",
      "metadata": {
        "id": "nJ_spOFKMr87"
      },
      "source": [
        "# Before you leave...\n",
        "\n",
        "1. Please complete the ***very brief*** statement of completion survey here:   \n",
        ">  https://bit.ly/fsmcolab1survey\n",
        "\n",
        "2. Check out the references for more information below!  \n",
        "\n",
        "3. Check out the **BONUS** machine learning models at the end, below references!\n",
        "\n",
        "Thank you!!!"
      ]
    },
    {
      "cell_type": "markdown",
      "metadata": {
        "jp-MarkdownHeadingCollapsed": true,
        "tags": [],
        "id": "Fjwxku2M34s1"
      },
      "source": [
        "# References and more\n",
        "\n",
        "Perhaps you loved this so much, you want to make your own Colab notebooks! How would you do this???\n",
        "\n",
        "First, save a copy of this notebook so you can always refer back to copy the libraries and leverage the code used on future notebooks.\n",
        "\n",
        "Then, visit [here](https://colab.research.google.com/?utm_source=scs-index) for an overview and setup!\n",
        "\n",
        "References:\n",
        "\n",
        "1. Bento C. Support Vector Machines explained with Python examples [Internet]. Medium. 2020 [cited 2021 Nov 11]. Available from: https://towardsdatascience.com/support-vector-machines-explained-with-python-examples-cb65e8172c85\n",
        "\n",
        "\n",
        "2. Brownlee J. How to Use ROC Curves and Precision-Recall Curves for Classification in Python [Internet]. Machine Learning Mastery. 2018 [cited 2021 Nov 7]. Available from: https://machinelearningmastery.com/roc-curves-and-precision-recall-curves-for-classification-in-python/\n",
        "\n",
        "> - This is a great resource for explaining ROC curves and coding for them. (Other pages on the site are fantastic, too.)\n",
        "\n",
        "\n",
        "3. Dhandhania K. End-to-End Data Science Example: Predicting Diabetes with Logistic Regression [Internet]. Medium. 2018 [cited 2021 Nov 7]. Available from: https://towardsdatascience.com/end-to-end-data-science-example-predicting-diabetes-with-logistic-regression-db9bc88b4d16\n",
        "\n",
        "> - I came across this website as I was well on my way. There are many similarities to the approach followed above that is applied to a different data set. I applied the normalization, heatmap, and correlations methods discussed here.\n",
        "\n",
        "\n",
        "\n",
        "\n",
        "\n",
        "\n"
      ]
    },
    {
      "cell_type": "markdown",
      "metadata": {
        "id": "m3nzbs8X8DK8"
      },
      "source": [
        "# APPENDIX  \n",
        "\n",
        "Here are examples applying other machine learning algorithms to our data set to generate predictive models: \n",
        "\n",
        "> - Naive Bayes\n",
        "> - Support Vector Machine  \n",
        "> - Random Forest \n",
        "\n",
        "The model's accuracy doesn't get better, although, we didn't have that large a data set and some approaches work optimally with larger or more complex data. Sometimes, as here, logistic regression appears best!"
      ]
    },
    {
      "cell_type": "code",
      "metadata": {
        "id": "bFhwXS5jwYp_"
      },
      "source": [
        "from sklearn.naive_bayes import GaussianNB\n",
        "classifier = GaussianNB()\n",
        "classifier.fit(trainData, trainLabel)\n",
        "\n",
        "y_pred = classifier.predict(testData)\n",
        "\n",
        "from sklearn.metrics import confusion_matrix,accuracy_score\n",
        "cm = confusion_matrix(testLabel, y_pred)\n",
        "\n",
        "ac = accuracy_score(testLabel,y_pred)\n",
        "\n",
        "\n",
        "\n",
        "print(\"Naive Bayes\\nAccuracy (normalized): \" + str(ac))\n",
        "\n",
        "print(cm)"
      ],
      "execution_count": null,
      "outputs": []
    },
    {
      "cell_type": "markdown",
      "metadata": {
        "id": "LCM0nIoj7-Wc"
      },
      "source": [
        "An SVM (support vector machine) example:"
      ]
    },
    {
      "cell_type": "code",
      "metadata": {
        "id": "UX29GwvM1l0Z"
      },
      "source": [
        "from sklearn import svm\n",
        "svmmodel = svm.SVC(kernel='linear', degree=2)\n",
        "svmmodel.fit(trainData, trainLabel)\n",
        "\n",
        "\n",
        "\n",
        "from sklearn.metrics import accuracy_score\n",
        "predictions_poly = svmmodel.predict(testData)\n",
        "accuracy_poly = accuracy_score(testLabel, predictions_poly)\n",
        "print(\"Linear Kernel\\nAccuracy (normalized): \" + str(accuracy_poly))\n",
        "\n",
        "cm2 = confusion_matrix(testLabel, predictions_poly)\n",
        "print(cm2)"
      ],
      "execution_count": null,
      "outputs": []
    },
    {
      "cell_type": "markdown",
      "metadata": {
        "id": "ZTUOIKhn76Cc"
      },
      "source": [
        "A Random Forest example:"
      ]
    },
    {
      "cell_type": "code",
      "metadata": {
        "id": "2krQyxry5RBY"
      },
      "source": [
        "\n",
        "# evaluate random forest algorithm for classification\n",
        "from numpy import mean\n",
        "from numpy import std\n",
        "from sklearn.datasets import make_classification\n",
        "from sklearn.model_selection import cross_val_score\n",
        "from sklearn.model_selection import RepeatedStratifiedKFold\n",
        "from sklearn.ensemble import RandomForestClassifier\n",
        "# define the model\n",
        "rfmodel = RandomForestClassifier()\n",
        "# evaluate the model\n",
        "cv = RepeatedStratifiedKFold(n_splits=15, n_repeats=3, random_state=1)\n",
        "n_scores = cross_val_score(rfmodel, trainData, trainLabel, scoring='accuracy', cv=cv, n_jobs=-1, error_score='raise')\n",
        "# report performance\n",
        "print('Accuracy: %.3f (%.3f)' % (mean(n_scores), std(n_scores)))"
      ],
      "execution_count": null,
      "outputs": []
    },
    {
      "cell_type": "code",
      "metadata": {
        "id": "57PNXAw434s1"
      },
      "source": [
        ""
      ],
      "execution_count": null,
      "outputs": []
    }
  ]
}