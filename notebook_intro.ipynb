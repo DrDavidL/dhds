{
  "nbformat": 4,
  "nbformat_minor": 0,
  "metadata": {
    "colab": {
      "name": "notebook_intro.ipynb",
      "provenance": [],
      "collapsed_sections": [],
      "toc_visible": true,
      "authorship_tag": "ABX9TyNfDJdZb6/y9LYzVPmUps+q",
      "include_colab_link": true
    },
    "kernelspec": {
      "name": "python3",
      "display_name": "Python 3"
    },
    "language_info": {
      "name": "python"
    }
  },
  "cells": [
    {
      "cell_type": "markdown",
      "metadata": {
        "id": "view-in-github",
        "colab_type": "text"
      },
      "source": [
        "<a href=\"https://colab.research.google.com/github/DrDavidL/dhds/blob/main/notebook_intro.ipynb\" target=\"_parent\"><img src=\"https://colab.research.google.com/assets/colab-badge.svg\" alt=\"Open In Colab\"/></a>"
      ]
    },
    {
      "cell_type": "markdown",
      "metadata": {
        "id": "0cpUyiFUIGUC"
      },
      "source": [
        "# Learning Data Science\n",
        "\n",
        "## *Welcome Data Science Learners!!!*\n",
        "\n",
        "Part 1: Introduction to the Data Science Notebook\n",
        "\n",
        "## Purpose\n",
        "\n",
        "The goal of this exercise is an introduction to a tool of data science, the **notebook.** Why learn about data science notebooks? There are many benefits to data scientists leading to their widespread adoption including:\n",
        "\n",
        "1. The format with individual cells allows your work to be incremental. If you make a mistake, it's usually straightforward to troubleshoot.\n",
        "2. Easily share your evolving work with others.\n",
        "3. You're able to harness the power of modern computing with many visualization and analytics tools as needed.\n",
        "\n",
        "This is also important for non-data scientists. That is:\n",
        "\n",
        "1. Notebooks allow for interactive instruction. You'll learn how data scientists work using pre-built code.\n",
        "2. With increasing applications of AI to the practice of medicine, **how** AI models are developed is important to know for practicing clinicians. Through use of a data science notebook, this becomes experiential learning. \n",
        "3. You can save the notebooks and apply standard tools to future datasets you may wish to explore. \n",
        "\n",
        "\n",
        "Now, let's learn about this notebook! It's made of 2 cell types:\n",
        "\n",
        "- Cells that contain text (like this one you're reading).\n",
        "- Cells that contain code for manipulating data.\n",
        "\n",
        "\n",
        "\n",
        "\n",
        "\n",
        "\n",
        "\n",
        "\n",
        "\n",
        "\n",
        "\n",
        "\n",
        "\n",
        "\n"
      ]
    },
    {
      "cell_type": "markdown",
      "metadata": {
        "id": "Id6tDF1HQSHD"
      },
      "source": [
        "## Let's Start with Text Cells\n",
        "This cell, and the one above, are **text cells**. You can **double-click** to edit this cell and then click your `escape` key (top left of your keyboard), to see how it looks. Text cells\n",
        "are composed using `markdown` for their formatting. This is sort of like a mini-version of HTML used on webpages. There is no need to learn details of `markdown` (which is actually pretty simple), but if you are interested, Google supplies a [markdown\n",
        "guide](/notebooks/markdown_guide.ipynb) for the variation used in Colab notebooks.  \n",
        "\n",
        "> And, remember, if you accidentally double click a text cell, use your `esc` key to hide the `markdown`! \n",
        "\n"
      ]
    },
    {
      "cell_type": "markdown",
      "metadata": {
        "id": "KR921S_OQSHG"
      },
      "source": [
        "## Now, over to Code Cells\n",
        "This text cell you're reading now explains the `code cell` below. To run code cells, your cloud computer needs to be running. So, please check at the top right of this window to make sure your cloud computer from Google is running. if ![smallerram.jpg](data:image/jpeg;base64,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) appears, you're set. If ![CleanShot 2022-06-25 at 10.08.26@2x.png](data:image/png;base64,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) appears, click it to start up your cloud computer. Once the toolbar button at the top of the page shows the RAM and Disk, it's ready! Click inside the code cell below to select it. Then, run the code (yay!) using the **Play icon** in the left gutter of the cell. Cells with outputs (like this one) display the output right underneath.\n",
        "\n",
        "When using code cells, read all text that appears after the `#` symbols. These are `comments` and explain the code being used.\n"
      ]
    },
    {
      "cell_type": "code",
      "source": [
        "# This is a comment in a code cell, not code. The \"#\" here stops this line from being executed.\n",
        "# The code below creates the variable 'a' using the python language and assigns it the value of 5.\n",
        "# The next line prints the output value of ` a x a `. The printout appears in the output field below this cell. \n",
        "# Change 'a' to another number and run this cell again, programmer!\n",
        "# Oh, and don't be worried. You're not learning to program. What you'll learn to do, like simply \n",
        "# changing that 'a' value, is how to modify existing code for new data sets!\n",
        "\n",
        "a = 5\n",
        "\n",
        "print(a * a)"
      ],
      "metadata": {
        "id": "dikNbnMhkGLH"
      },
      "execution_count": null,
      "outputs": []
    },
    {
      "cell_type": "markdown",
      "metadata": {
        "tags": [],
        "id": "vhP7XthF34sx"
      },
      "source": [
        "# Ready! So... how do we get our dataset into our cloud computer?\n",
        "\n",
        "The approach coded below will retrieve a CSV (comma separated values) data file from an Internet location. In the \"Optional for Reference\" section of this notebook down below are other options including importing from a local file on your computer or files saved in Excel format. \n",
        "\n",
        "[Here](https://hbiostat.org/data/repo/diabetes.html) is information on the dataset we're using.\n",
        "\n"
      ]
    },
    {
      "cell_type": "code",
      "metadata": {
        "id": "fmJEfaem34sx"
      },
      "source": [
        "# Our cloud computer needs a tool to retrieve and \"read\" a dataset. \n",
        "# A great tool for retrieving spreadsheets of data is a python package called Pandas.\n",
        "# The code below installs Pandas on our computer and gives it a shortcut name, 'pd', since we always want to save keystrokes!\n",
        "import pandas as pd\n",
        "\n",
        "# If the file containing your dataset is on a public website, the following 2 steps are used. (Yes, only 2!!)\n",
        "# Pandas can interpret a variety of file types including CSV (comma separate values), Excel, and even tables on website!\n",
        "# First, let's enter the website address to the CSV file. Note - the website needs to go directly to that file. That is,\n",
        "# if you enter that URL, you should either see the data or be prompted to download a CSV file. Here is our example. Try opening in a webrowser.\n",
        "website = 'https://raw.githubusercontent.com/DrDavidL/dhds/main/predictdm.csv'\n",
        "\n",
        "# OK - now Pandas needs to \"read\" the CSV file and save it on your cloud computer. \n",
        "# We use the \"read\" command from Pandas (remember we use our shortcut \"pd\").\n",
        "# Pandas stores the data inside a \"dataframe\" file. This is like an accordion of Excel \n",
        "# spreadsheets. Here, we use just one layer, the equivalent of one spreadsheet. \n",
        "stored_data = pd.read_csv(website)\n",
        "\n",
        "# Let's view the first few rows to make sure it worked!\n",
        "# Using \".head()\" will reveal the first 5 rows!\n",
        "stored_data.head()"
      ],
      "execution_count": null,
      "outputs": []
    },
    {
      "cell_type": "markdown",
      "source": [
        "# Let's take a peek at the data! \n",
        "\n",
        "One more thing! Let's get a hint of the power of our tools Let's use a one line command to describe our dataset and visuailize one parameter! First, run the cell below, and review the output!\n",
        "\n",
        "> count --> The number of values.  \n",
        "> mean --> The mean average for items in the column.   \n",
        "> std --> The standard deviation for the column.   \n",
        "> min --> The lowest value for the column.   \n",
        "> 25% --> The 1st quartile break point.  \n",
        "> 50% --> The 2nd quartile break point.    \n",
        "> 75% --> The 3rd quartile break point.     \n",
        "> max --> The highest value for the column.   \n",
        "\n",
        "Look across the mean values; are they reasonable?     \n",
        "Look at the counts; are any data missing?"
      ],
      "metadata": {
        "id": "RsoIRvrjwXJY"
      }
    },
    {
      "cell_type": "code",
      "source": [
        "# This command will provide a bird's-eye view of the numerical variables in your dataset. \n",
        "# In a future lesson, we'll use a similar approach for categorical data (e.g., Gender and Diabetes).\n",
        "stored_data.describe()"
      ],
      "metadata": {
        "id": "7z986E_awi5b"
      },
      "execution_count": null,
      "outputs": []
    },
    {
      "cell_type": "code",
      "source": [
        "# And, since histograms give another bird's-eye view, let's try it out!\n",
        "# These few code lines depict the age distribution for our subjects in the study. \n",
        "# Try replacing \"Age\" below with other column headers and re-run this cell. \n",
        "# Use, e.g., \"Cholesterol\", \"Weight\", \"Glucose\", or others.\n",
        "\n",
        "# First we import the plotting package. \n",
        "import matplotlib.pyplot as plt\n",
        "\n",
        "# Here, enter the column name you'd like to graph!\n",
        "column = 'Age'\n",
        "\n",
        "# Assemble the components of the histogram\n",
        "plt.rcParams[\"figure.figsize\"]=(12,6)\n",
        "plt.title('Histogram of ' + column)\n",
        "plt.xlabel(column)\n",
        "stored_data[column].plot.hist(bins = 20)\n",
        "plt.show()"
      ],
      "metadata": {
        "id": "bRXA40D6J0cy"
      },
      "execution_count": null,
      "outputs": []
    },
    {
      "cell_type": "markdown",
      "source": [
        "# OPTIONAL and for REFERENCE\n",
        "\n",
        "If you'd like to save this file in your own Google account for future use, use the `File` command in the top left menu to save your version in your Google Drive.\n",
        "\n",
        "The cells below give you the brief code needed to import data from other sources. That is, a CSV file isn't always floating around the public Internet for you to use, as  above. So, these next cells are for reference now and will accelerate your journey when you have:\n",
        "\n",
        "1. A file on your own computer you'd like to upload and analyze (no PHI, though!!!). *There are safe ways to use the same code in secure environments. We're focusing here on public use cases.*\n",
        "1. A file in Excel format on the web.\n",
        "2. A table on a website you'd like to import as data for analysis.\n",
        "\n",
        "4. A Google Sheets file on your Google Drive. "
      ],
      "metadata": {
        "id": "2Net6rMgi6hw"
      }
    },
    {
      "cell_type": "markdown",
      "source": [
        "# What if the data is on your own computer?\n",
        "What if you have a file on your computer you'd like to upload? If you downloaded the CSV file earlier, you can use that one. Or, use any CSV file you have to try this. When running the cell below, you'll be prompted to select the file. Of course NO PHI. This data is exposed and unencryted on your Colab computer so only [public data](https://datasetsearch.research.google.com/) should be used here. There are secure Colab-like environments (locally installed JupyterLab or Visual Studio Code, e.g.), that can be used and work very similarly!"
      ],
      "metadata": {
        "id": "eY0_F2pr_aCl"
      }
    },
    {
      "cell_type": "code",
      "source": [
        "# The steps in this cell will provide you with a button to upload a file to Colab. Again, NO PHI.\n",
        "# The next cell will read the data into a dataframe using the name of your file.\n",
        "\n",
        "from google.colab import files\n",
        "\n",
        "uploaded = files.upload()\n",
        "\n",
        "for fn in uploaded.keys():\n",
        "  print('User uploaded file \"{name}\" with length {length} bytes'.format(\n",
        "      name=fn, length=len(uploaded[fn])))"
      ],
      "metadata": {
        "id": "UJTKLzNR9CLP"
      },
      "execution_count": null,
      "outputs": []
    },
    {
      "cell_type": "code",
      "source": [
        "# Assuming you just uploaded a CSV file, replace the \"yourfilename\" below with the name of your CSV file.\n",
        "# The 2 commands below are \"commented out\" with the \"#\" to avoid error messages. After you update\n",
        "# 'yourfilename.csv', then remove the '#\" before those two lines to run the code.\n",
        "\n",
        "# stored_data = pd.read_csv('yourfilename.csv')\n",
        "# stored_data.head()"
      ],
      "metadata": {
        "id": "PB0fUp2YAmnj"
      },
      "execution_count": null,
      "outputs": []
    },
    {
      "cell_type": "markdown",
      "source": [
        "## What if the data is an Excel file?\n",
        "What if the data was in Excel format? You can convert it to CSV format, or Pandas can import it directly from Excel with these code examples:"
      ],
      "metadata": {
        "id": "d3769zzl5Ewv"
      }
    },
    {
      "cell_type": "code",
      "source": [
        "import pandas as pd \n",
        "\n",
        "# Now, our 2 steps if the format is in Excel.\n",
        "# Note, we have a new link for the Excel file and the command uses 'excel' instead of 'csv'.\n",
        "\n",
        "website = 'https://github.com/DrDavidL/dhds/blob/main/predictdm.xlsx?raw=true'\n",
        "stored_data = pd.read_excel(website)\n",
        "\n",
        "# Now, let's make sure it works\n",
        "# You'll see some subtle differences in that all numbers are interpreted as \"floats\" with decimal points versus some as integers from the CSV file.\n",
        "# We'll clarify this in another session.\n",
        "\n",
        "stored_data.head()"
      ],
      "metadata": {
        "id": "K1AohtP25WU4"
      },
      "execution_count": null,
      "outputs": []
    },
    {
      "cell_type": "code",
      "source": [
        "# One further trick - what if you have multiple worksheets in your Excel file?\n",
        "\n",
        "# Just load the worksheet of interest into the dataframe:\n",
        "# df = pd.read_excel(file_name, sheet_name=\"house\")"
      ],
      "metadata": {
        "id": "XuGE3NRJoGrz"
      },
      "execution_count": null,
      "outputs": []
    },
    {
      "cell_type": "markdown",
      "source": [
        "## What if the data is in a Wikipedia (or other website) table?\n",
        "\n",
        "What if the data is on a table on a website? Let's use a Wikipedia example that includes COVID-19 cases and death rates. See below:"
      ],
      "metadata": {
        "id": "QPkxnM4O7kYo"
      }
    },
    {
      "cell_type": "code",
      "source": [
        "website = 'https://en.wikipedia.org/wiki/COVID-19_pandemic_death_rates_by_country'\n",
        "\n",
        "stored_data = pd.read_html(website)\n",
        "\n",
        "# Sometimes websites have more than one table. The 'read' command we used\n",
        "# pulled each of them into distinct layers of our dataframe. To select and print the layer we want,\n",
        "# (numbering starts at zero), we use '1' to select the 2nd table describing cases and deaths from COVID-19.\n",
        "\n",
        "stored_data[1].head()"
      ],
      "metadata": {
        "id": "hr4ysslN8Ty4"
      },
      "execution_count": null,
      "outputs": []
    },
    {
      "cell_type": "markdown",
      "source": [
        "## What if your spreadsheet is in your Google Drive?"
      ],
      "metadata": {
        "id": "4ffNy3B1p6L6"
      }
    },
    {
      "cell_type": "code",
      "source": [
        "# You might think it would be easier to read a Google Sheets spreadsheet into Pandas...\n",
        "# But, there are a few extra lines of code, maintly to ensure your credientials are OK \n",
        "# to access the file. Then, there is a specific tool, gspread, that uses your credentials to read\n",
        "# the Google Sheets file. Here we just get our cloud computer ready to read the Google Sheets file. \n",
        "# This same code can be used on your own account without change!\n",
        "# You'll be prompted when running the code to give yourself access to your Google Drive. \n",
        "\n",
        "# Now, here's the code that will trigger a prompt you should approve to access your Drive files.\n",
        "\n",
        "from google.colab import auth\n",
        "auth.authenticate_user()\n",
        "from google.auth import default\n",
        "creds, _ = default()\n",
        "\n",
        "# Here's the \"gspread' tool for reading Google Sheets files and our authorization of that tool on our Google Drive files.\n",
        "\n",
        "import gspread\n",
        "gc = gspread.authorize(creds)\n",
        "\n"
      ],
      "metadata": {
        "id": "JMk1mck_cugC"
      },
      "execution_count": null,
      "outputs": []
    },
    {
      "cell_type": "code",
      "source": [
        "\n",
        "# Now, we open the Google Sheets file named here, 'predictdm' on my Google Drive. \n",
        "# You'd replace with the name of your own file.\n",
        "#spreadsheet = gc.open('predictdm')\n",
        "\n",
        "# Here we enter the name of the specific worksheed we'd like to use. This was the name of my worksheet.\n",
        "#wks = spreadsheet.worksheet('predictdm.csv')\n",
        "\n",
        "# Here we extract all values and also the column headers:\n",
        "#data = wks.get_all_values()\n",
        "#headers = data.pop(0)\n",
        "\n",
        "# Here we move these values into a dataframe, finally:\n",
        "#df = pd.DataFrame(data, columns=headers)\n",
        "\n",
        "# See? It looks the same:\n",
        "#df.head()\n",
        "\n",
        "\n"
      ],
      "metadata": {
        "id": "fevpaSO4YWfZ"
      },
      "execution_count": null,
      "outputs": []
    },
    {
      "cell_type": "markdown",
      "source": [
        "Content authored by David Liebovitz, MD.\n",
        "Approaches and annotations were modified from Pandas, Colab, and gspread sources below. Any errors are mine alone.\n",
        "\n",
        "https://pandas.pydata.org/\n",
        "\n",
        "https://colab.research.google.com/notebooks/markdown_guide.ipynb\n",
        "\n",
        "https://docs.gspread.org/en/v5.4.0/#\n",
        "\n",
        "\n",
        "\n"
      ],
      "metadata": {
        "id": "VdLuPJHa2IRD"
      }
    }
  ]
}