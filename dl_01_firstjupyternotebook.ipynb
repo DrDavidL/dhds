{
  "nbformat": 4,
  "nbformat_minor": 0,
  "metadata": {
    "kernelspec": {
      "display_name": "Python 3",
      "language": "python",
      "name": "python3"
    },
    "language_info": {
      "codemirror_mode": {
        "name": "ipython",
        "version": 3
      },
      "file_extension": ".py",
      "mimetype": "text/x-python",
      "name": "python",
      "nbconvert_exporter": "python",
      "pygments_lexer": "ipython3",
      "version": "3.7.7"
    },
    "pycharm": {
      "stem_cell": {
        "cell_type": "raw",
        "metadata": {
          "collapsed": false
        },
        "source": []
      }
    },
    "toc": {
      "base_numbering": 1,
      "nav_menu": {},
      "number_sections": true,
      "sideBar": true,
      "skip_h1_title": false,
      "title_cell": "Table of Contents",
      "title_sidebar": "Contents",
      "toc_cell": false,
      "toc_position": {},
      "toc_section_display": true,
      "toc_window_display": false
    },
    "varInspector": {
      "cols": {
        "lenName": 16,
        "lenType": 16,
        "lenVar": 40
      },
      "kernels_config": {
        "python": {
          "delete_cmd_postfix": "",
          "delete_cmd_prefix": "del ",
          "library": "var_list.py",
          "varRefreshCmd": "print(var_dic_list())"
        },
        "r": {
          "delete_cmd_postfix": ") ",
          "delete_cmd_prefix": "rm(",
          "library": "var_list.r",
          "varRefreshCmd": "cat(var_dic_list()) "
        }
      },
      "types_to_exclude": [
        "module",
        "function",
        "builtin_function_or_method",
        "instance",
        "_Feature"
      ],
      "window_display": false
    },
    "colab": {
      "name": "dl_01_firstjupyternotebook.ipynb",
      "provenance": [],
      "collapsed_sections": []
    }
  },
  "cells": [
    {
      "cell_type": "markdown",
      "metadata": {
        "id": "0cpUyiFUIGUC"
      },
      "source": [
        "# My First Data Science Notebook\n",
        "\n",
        "## *Welcome Feinberg Medical Students!!!*\n",
        "\n",
        "## Purpose\n",
        "\n",
        "This interactive Colab notebook will help you become acquainted with the POWER of data science notebooks to retrieve files from... *anywhere*, preview file contents (e.g., just the first few rows of large tables of data), manipulate data, create neat visualizations, analyze data, and then apply machine learning to develop models and predict events! Cool, huh??? \n",
        "\n",
        "You might wonder which computer is doing this for you? Your own? NO... there is a processor far off in the Internet that, through the benefits of cloud computing, has been allocated to YOU and your work HERE, right now! Your personal computer is merely displaying content that this other processor will manipulate at YOUR direction! **YOU**... are in charge! \n",
        "\n",
        "But wait... you don't know how to program? No worries! This notebook will enable you to look behind the scenes and understand what the programs are doing... while not having to code anything yourself!"
      ]
    },
    {
      "cell_type": "markdown",
      "metadata": {
        "id": "3L4KO5PF34so"
      },
      "source": [
        "## How to use a notebook!\n",
        "\n",
        "Of course, we mean how to use a *data science* notebook. This notebook is called a Colab notebook (very similar to another version, a Jupyter Notebook). Notebooks are assembled from cells and cells contain:\n",
        "\n",
        ">  - text (like this that you're reading now)\n",
        ">  - code (commands your cloud computer will execute for you)\n",
        "\n",
        "### Navigation\n",
        "\n",
        "How should we move up and down the page to explore these cells? Click once to select a cell and then:  \n",
        "\n",
        ">  **Use the arrow keys on your keyboard.**\n",
        "\n",
        "Try it out! Go up and down the page and come back here! Use this method to navigate since then you always know which cell is active - the one you highlighted and selected through the arrow keys! Once you're finished with a cell, and this one ends here, click the down arrow to move to the next cell.\n"
      ]
    },
    {
      "cell_type": "markdown",
      "metadata": {
        "id": "LBxOwpwGOI-R"
      },
      "source": [
        "### Editing\n",
        "\n",
        "This cell (the one you're reading now) is authored with  simple formatting called *markdown*. If you double click inside this cell or hit *enter* (the return key) the screen will slit and you'll see the *raw* text nearby with the code revealed next to the polished text.\n",
        "\n",
        "Try it - hit enter! Ok... now you can edit or delete any text! Don't delete everything... but also don't worry; this is your own view on your cloud computer. You're not changing anything for anyone else. Ummm... how do I go back and forth from editing to viewing? \n",
        "\n",
        "> **Use enter:** To enter the edit mode.  \n",
        "> **Use esc:** To return to the viewing mode.\n"
      ]
    },
    {
      "cell_type": "markdown",
      "metadata": {
        "id": "NsNgEbJbH_1C"
      },
      "source": [
        "### How do I use the interactive stuff???\n",
        "\n",
        "Some cells are coding cells. You'll recognize them since they have confusing symbols in them (like # or words like matplotlib). To execute (which means to run) the code in those cells there are two methods: \n",
        "\n",
        "> 1. **Click the play symbol** that appears next to that cell.\n",
        "> 2. **Hold the control key and then click the enter key**. (Control-enter)\n",
        "\n",
        "\n"
      ]
    },
    {
      "cell_type": "markdown",
      "metadata": {
        "id": "lJQbtd7UJF0w"
      },
      "source": [
        "## Our Agenda\n",
        "\n",
        "Now that you understand why we are here and how to navigate a data science notebook, we can get down to business. We will:  \n",
        "\n",
        "1. Setup your cloud computer with the right programs so it can perform your analysis. You don't need to understand this other than we will help you tell your computer what programs it needs to manipulate and visualize data! (This is the Library Import section.)\n",
        "2. Retrieve the data set you are going to explore! \n",
        "3. View some of the data so you know what you're working with!\n",
        "4. Visualize different aspects of your data set.\n",
        "5. Select a variable to predict. \n",
        "6. Choose a portion of your dataset to generate your predictive model. \n",
        "7. Validate your model against the fresh component of your dataset to see how well your model works!"
      ]
    },
    {
      "cell_type": "markdown",
      "metadata": {
        "id": "h8qLordS34su"
      },
      "source": [
        "# Prepare our cloud computer!\n",
        "\n",
        "## Library import\n",
        "\n",
        "This is where we tell our cloud computer which programs it needs. Just 2 things to know here:\n",
        "\n",
        "> 1. **The # symbol**: Pay attention and read where the **#** symbol is in code cells like the one below. The text following the #'s are *comments* that explain the code so you can follow what's going on! \n",
        "> 2. **Control-enter** or click the play symbol: Remember - use **control-enter** to run the code! You'll see when the code from the cell is finished running when the **[  ]** before the cell will briefly change to include a \"stop play\" symbol and then switch to a number when complete. A green checkmark will also appear to the left. (Sometimes it's so fast, you can't see it; other times it may take a minute to process.) The number then indicates the order at which it executed on the page. "
      ]
    },
    {
      "cell_type": "code",
      "metadata": {
        "ExecuteTime": {
          "end_time": "2019-06-16T14:44:50.874881Z",
          "start_time": "2019-06-16T14:44:38.616867Z"
        },
        "id": "CbVE99Ix34sv"
      },
      "source": [
        "# Be sure to run this critical first cell to get our cloud computer ready! Remember, click the \"play\" button to the left or control-enter.\n",
        "# If you haven't logged into Google, you'll be prompted. Also... (and I say this with care...) Ignore the warning prompt if you see one and proceed.\n",
        "# This will then load the right programs so we can analyze our data!\n",
        "\n",
        "import pandas as pd\n",
        "import numpy as np\n",
        "import seaborn as sns\n",
        "\n",
        "# Options for pandas to display well here\n",
        "pd.options.display.max_columns = 50\n",
        "pd.options.display.max_rows = 30\n",
        "\n",
        "# Visualization tools\n",
        "import plotly\n",
        "import plotly.graph_objs as go\n",
        "import plotly.offline as ply\n",
        "plotly.offline.init_notebook_mode(connected=True)\n",
        "\n",
        "import cufflinks as cf\n",
        "cf.go_offline(connected=True)\n",
        "cf.set_config_file(theme='white')\n",
        "\n",
        "import matplotlib as plt\n",
        "\n",
        "# Autoreload extension\n",
        "if 'autoreload' not in get_ipython().extension_manager.loaded:\n",
        "    %load_ext autoreload\n",
        "    \n",
        "%autoreload 2\n",
        "\n"
      ],
      "execution_count": null,
      "outputs": []
    },
    {
      "cell_type": "markdown",
      "metadata": {
        "tags": [],
        "id": "vhP7XthF34sx"
      },
      "source": [
        "\n",
        "# Data import\n",
        "\n",
        "This notebook utilizes a dataset the Cleveland Clinic nicely made available with deidentified data. We'll retrieve it here and explore it!"
      ]
    },
    {
      "cell_type": "code",
      "metadata": {
        "id": "fmJEfaem34sx"
      },
      "source": [
        "# Run this cell to reference the website that is holding the data in a CSV (comma separated values) file! \n",
        "\n",
        "website = \"https://docs.google.com/spreadsheets/d/e/2PACX-1vThOgP7ulRBYiAVrEWbQCad6Mh2Z1ceFDP-G8xPRUpry9st8Xppv0LpUW1X8nW0U-uaPqZ1KRgJ6--k/pub?gid=1217486054&single=true&output=csv\"\n",
        "\n",
        "# Then, the below command that is also executed when running this cell, will save the file inside something called a pandas dataframe. \n",
        "# Pandas is the program (e.g., like Excel) and think of a dataframe as a powerful table, like an Excel spreadsheet.\n",
        "# We will call the file with the data \"heart_disease\". \n",
        "\n",
        "heart_disease = pd.read_csv(website)"
      ],
      "execution_count": null,
      "outputs": []
    },
    {
      "cell_type": "markdown",
      "metadata": {
        "id": "8c9xYUPF34sy"
      },
      "source": [
        "# Data processing\n",
        " "
      ]
    },
    {
      "cell_type": "markdown",
      "metadata": {
        "id": "_TIP29lA34sy"
      },
      "source": [
        "First we'll view just the first few rows of the table to see what we're dealing with!"
      ]
    },
    {
      "cell_type": "code",
      "metadata": {
        "id": "RZQYvpI334sy"
      },
      "source": [
        "# Let's look at just the first few rows of data in our file. We can do this with the \".head\" command. \n",
        "# And... No worries here! You don't need to memorize these commands. These explanations are simply so you can follow along!\n",
        "\n",
        "heart_disease.head()"
      ],
      "execution_count": null,
      "outputs": []
    },
    {
      "cell_type": "markdown",
      "metadata": {
        "id": "U0rRl8lM34sz"
      },
      "source": [
        "Now, let's figure out what type of data is reflected in the table."
      ]
    },
    {
      "cell_type": "code",
      "metadata": {
        "id": "BH5cTOoR34sz"
      },
      "source": [
        "# The \".dtypes\" command will show us the data types for each column in our dataframe. (Remember a dataframe is like an Excel spreadsheet.)\n",
        "\n",
        "heart_disease.dtypes"
      ],
      "execution_count": null,
      "outputs": []
    },
    {
      "cell_type": "markdown",
      "metadata": {
        "id": "_MHVESYo34s0"
      },
      "source": [
        "There are 14 columns. To start with, let's make this smaller with just 4 columns so we can explore how the variables relate to each other. Your cloud computer can analyze all of these at once, but it's easier for us humans to learn if we start with a smaller set. Let's pick age, cholesterol, systolic BP, and maximum heart rate. "
      ]
    },
    {
      "cell_type": "code",
      "metadata": {
        "id": "Pxy4GDEE34s0"
      },
      "source": [
        "# The command below will make a new dataframe that contains only the columns specified. \n",
        "# Then, we'll be able to analyze how these values relate to each other.\n",
        "\n",
        "hd2 = heart_disease[['Age', 'Cholesterol', 'BP', 'Max HR']]"
      ],
      "execution_count": null,
      "outputs": []
    },
    {
      "cell_type": "markdown",
      "metadata": {
        "id": "KtOLTpL534s0"
      },
      "source": [
        "Now, let's visualize how they are related to each other."
      ]
    },
    {
      "cell_type": "code",
      "metadata": {
        "id": "H9ZnCDcX34s1"
      },
      "source": [
        "# The command below hints at power of what is possible for you! That is, in almost a flash,\n",
        "# your cloud computer will create 2 by 2 graphs of each of the 4 variables in our dataframe \n",
        "# AND also perform a linear regression to reveal potential relationships among the variables.\n",
        "\n",
        "g2 = sns.pairplot(hd2, kind = 'reg')\n",
        "\n",
        "\n",
        "# Once you have run this cell, you should see 16 graphs, a bivariate (2 at a time) analyze of each of the 4 variables. \n",
        "# See discussion beneath the graphs."
      ],
      "execution_count": null,
      "outputs": []
    },
    {
      "cell_type": "markdown",
      "metadata": {
        "id": "WFEZisnKX56T"
      },
      "source": [
        "### Exploration of 4 variables\n",
        "\n",
        "There are a couple quick observations:  \n",
        "\n",
        "1. The histograms plot values against frequency. So, for age, cholesterol, systolic BP, and max heart rate we see most values in the middle ranges and then few outliers at both ends. This makes sense!\n",
        "2. Then, the linear regression lines in the bivariate analyses have some interesting findings: cholesterol tended to rise with age, BP tended to rise with choesterol, and max HR most clearly seemed to diminish with age. These all seem to make sense, too! (Of course... regardless if they \"make sense,\" these are the findings from logistic regression against this Cleveland Clinic dataset. "
      ]
    },
    {
      "cell_type": "markdown",
      "metadata": {
        "jp-MarkdownHeadingCollapsed": true,
        "tags": [],
        "id": "Fjwxku2M34s1"
      },
      "source": [
        "# References and more\n",
        "\n",
        "I loved this so much, I want to make my own Jupyter notebooks! How do I do this???\n",
        "\n",
        "Helpful references:\n",
        "1. \n",
        "2. "
      ]
    },
    {
      "cell_type": "code",
      "metadata": {
        "id": "57PNXAw434s1"
      },
      "source": [
        ""
      ],
      "execution_count": null,
      "outputs": []
    }
  ]
}