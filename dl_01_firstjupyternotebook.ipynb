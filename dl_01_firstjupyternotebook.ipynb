{
 "cells": [
  {
   "cell_type": "markdown",
   "metadata": {},
   "source": [
    "# My First Jupyter Notebook\n",
    "\n",
    "## *Welcome Feinberg Medical Students!!!*\n",
    "\n",
    "## Purpose\n",
    "\n",
    "This notebook will help you become acquainted with the POWER of Jupyter Notebooks to retrieve files from... *anywhere*, preview file contents (e.g., just the first few rows of large tables of data), manipulate data, create neat visualizations, analyze data, and then apply machine learning to predict events! Cool, huh??? You might wonder which computer is doing this for you? Your own? NO... there is a processor far off in the Internet that, through the benefits of cloud computing, has been allocated to YOU and your work HERE, right now! Your personal computer is merely displaying content that this other processor will manipulate at YOUR direction! **YOU**... are in charge! \n",
    "\n",
    "But wait... you don't know how to program? No worries! This notebook will enable you to look behind the scenes and understand what the programs are doing... while not having to code anything yourself!\n",
    "\n",
    "## How to use a notebook!\n",
    "\n",
    "Of course, we mean how to use a *Jupyter* notebook. This notebook is made up of cells. The short story is cells contain:\n",
    "\n",
    ">  - text (like this that you're reading now)\n",
    ">  - code (commands your cloud computer will execute for you)\n",
    "\n",
    "This one (you're reading now) is authored with some simple formatting called *markdown*. It's possible (and I'm sure some of you have done this accidentally already), to change from the nicely formatted view over to *markdown* I used to put this together. This happens if you double click inside a cell or hit *enter* (the return key) on your keyboard when a cell is selected. Try it! Ok... now you can edit or delete any text! Don't... but also don't worry; this is your view on your cloud computer. You're not changing anything for anyone else. Ummm... how do I get back? \n",
    "\n",
    "> **Use Control-enter.** (That is, click and hold the **control** key on your keyboard and then click the *enter* (return) key.) What control-enter is really doing is running the code! It's running a markdown viewer (for a cell like this one) and control-enter also runs programming code, as you'll soon see below.\n",
    "\n",
    "One more thing... Navigating this notebook!\n",
    "\n",
    "> **To move from one cell to the next (when in the viewing mode), use the up and down arrows on your keyboard.**\n",
    "\n",
    "\n",
    "\n",
    "\n",
    "## Our Agenda\n",
    "\n",
    "Now that you understand why we are here and how to navigate a Jupyter notebook, we can get down to business:\n",
    "\n",
    "1. Setup your cloud computer with the right programs so it can perform your analysis. You don't need to understand this other than we will help you tell your computer what programs it needs to manipulate and visualize data! (This is the Library Import section.)\n",
    "2. Retrieve the data set you are going to explore! (We uploaded one for you already and you'll be able to explore it!)\n",
    "3. View some of the data so you know what you're working with!\n",
    "4. Visualize different aspects of your data set.\n",
    "5. Select a variable to predict. \n",
    "6. Choose a portion of your dataset to generate your predictive model. \n",
    "7. Validate your model against the fresh component of your dataset to see how well your model works!\n",
    "\n"
   ]
  },
  {
   "cell_type": "markdown",
   "metadata": {},
   "source": [
    "# Prepare our cloud computer!\n",
    "\n",
    "## Library import\n",
    "\n",
    "This is where we tell our cloud computer which programs it needs. Just 2 things to know here:\n",
    "\n",
    "> 1. **The # symbol**: Pay attention and read where the **#** symbol is in code cells like the one below. The text following the #'s are *comments* that explain the code. \n",
    "> 2. **Control-enter**: Remember - use **control-enter** to run the code! You'll see when the code from the cell is finished running when the **[]** before the cell will briefly change to include an asterisk * and then switch to a number when complete. (Sometimes it's so fast, you can't see it; other times it may take a minute.) The number then indicates the order at which it executed on the page. "
   ]
  },
  {
   "cell_type": "code",
   "execution_count": null,
   "metadata": {
    "ExecuteTime": {
     "end_time": "2019-06-16T14:44:50.874881Z",
     "start_time": "2019-06-16T14:44:38.616867Z"
    }
   },
   "outputs": [],
   "source": [
    "# Data manipulation libraries to help us!\n",
    "import pandas as pd\n",
    "import numpy as np\n",
    "import seaborn as sns\n",
    "\n",
    "# Options for pandas to display well here\n",
    "pd.options.display.max_columns = 50\n",
    "pd.options.display.max_rows = 30\n",
    "\n",
    "# Visualization tools\n",
    "import plotly\n",
    "import plotly.graph_objs as go\n",
    "import plotly.offline as ply\n",
    "plotly.offline.init_notebook_mode(connected=True)\n",
    "\n",
    "import cufflinks as cf\n",
    "cf.go_offline(connected=True)\n",
    "cf.set_config_file(theme='white')\n",
    "\n",
    "import matplotlib as plt\n",
    "\n",
    "# Autoreload extension\n",
    "if 'autoreload' not in get_ipython().extension_manager.loaded:\n",
    "    %load_ext autoreload\n",
    "    \n",
    "%autoreload 2"
   ]
  },
  {
   "cell_type": "markdown",
   "metadata": {},
   "source": [
    "# Parameter definition\n",
    "We will set all relevant parameters for our notebook (pending)"
   ]
  },
  {
   "cell_type": "markdown",
   "metadata": {
    "tags": []
   },
   "source": [
    "\n",
    "# Data import\n",
    "\n",
    "This notebook carries a reference to a Cleveland Clinic deidentified data set. We'll retrieve it here and explore it!"
   ]
  },
  {
   "cell_type": "code",
   "execution_count": null,
   "metadata": {},
   "outputs": [],
   "source": [
    "heart_disease = pd.read_csv('heart.csv')"
   ]
  },
  {
   "cell_type": "markdown",
   "metadata": {},
   "source": [
    "# Data processing\n",
    " "
   ]
  },
  {
   "cell_type": "markdown",
   "metadata": {},
   "source": [
    "First we'll view just the first few rows of the table to see what we're dealing with!"
   ]
  },
  {
   "cell_type": "code",
   "execution_count": null,
   "metadata": {},
   "outputs": [],
   "source": [
    "heart_disease.head()"
   ]
  },
  {
   "cell_type": "markdown",
   "metadata": {},
   "source": [
    "Now, let's figure out what type of data is reflected in the table."
   ]
  },
  {
   "cell_type": "code",
   "execution_count": null,
   "metadata": {},
   "outputs": [],
   "source": [
    "# display the data type of each column in our DataFrame\n",
    "heart_disease.dtypes"
   ]
  },
  {
   "cell_type": "markdown",
   "metadata": {},
   "source": [
    "Now, let's limit our table to just a few columns as selected in the code below."
   ]
  },
  {
   "cell_type": "code",
   "execution_count": null,
   "metadata": {},
   "outputs": [],
   "source": [
    "hd2 = heart_disease[['Age', 'Cholesterol', 'BP', 'Max HR']]"
   ]
  },
  {
   "cell_type": "markdown",
   "metadata": {},
   "source": [
    "Now, let's visualize how they are related to each other."
   ]
  },
  {
   "cell_type": "code",
   "execution_count": null,
   "metadata": {},
   "outputs": [],
   "source": [
    "g2 = sns.pairplot(hd2, kind = 'reg')"
   ]
  },
  {
   "cell_type": "markdown",
   "metadata": {
    "jp-MarkdownHeadingCollapsed": true,
    "tags": []
   },
   "source": [
    "# References and more\n",
    "\n",
    "I loved this so much, I want to make my own Jupyter notebooks! How do I do this???\n",
    "\n",
    "Helpful references:\n",
    "1. \n",
    "2. "
   ]
  },
  {
   "cell_type": "code",
   "execution_count": null,
   "metadata": {},
   "outputs": [],
   "source": []
  }
 ],
 "metadata": {
  "kernelspec": {
   "display_name": "Python 3",
   "language": "python",
   "name": "python3"
  },
  "language_info": {
   "codemirror_mode": {
    "name": "ipython",
    "version": 3
   },
   "file_extension": ".py",
   "mimetype": "text/x-python",
   "name": "python",
   "nbconvert_exporter": "python",
   "pygments_lexer": "ipython3",
   "version": "3.7.7"
  },
  "pycharm": {
   "stem_cell": {
    "cell_type": "raw",
    "metadata": {
     "collapsed": false
    },
    "source": []
   }
  },
  "toc": {
   "base_numbering": 1,
   "nav_menu": {},
   "number_sections": true,
   "sideBar": true,
   "skip_h1_title": false,
   "title_cell": "Table of Contents",
   "title_sidebar": "Contents",
   "toc_cell": false,
   "toc_position": {},
   "toc_section_display": true,
   "toc_window_display": false
  },
  "varInspector": {
   "cols": {
    "lenName": 16,
    "lenType": 16,
    "lenVar": 40
   },
   "kernels_config": {
    "python": {
     "delete_cmd_postfix": "",
     "delete_cmd_prefix": "del ",
     "library": "var_list.py",
     "varRefreshCmd": "print(var_dic_list())"
    },
    "r": {
     "delete_cmd_postfix": ") ",
     "delete_cmd_prefix": "rm(",
     "library": "var_list.r",
     "varRefreshCmd": "cat(var_dic_list()) "
    }
   },
   "types_to_exclude": [
    "module",
    "function",
    "builtin_function_or_method",
    "instance",
    "_Feature"
   ],
   "window_display": false
  }
 },
 "nbformat": 4,
 "nbformat_minor": 4
}
